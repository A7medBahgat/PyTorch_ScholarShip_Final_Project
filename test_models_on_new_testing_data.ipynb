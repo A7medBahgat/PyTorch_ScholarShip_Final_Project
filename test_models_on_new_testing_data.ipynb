{
 "cells": [
  {
   "cell_type": "code",
   "execution_count": 1,
   "metadata": {
    "colab": {
     "base_uri": "https://localhost:8080/",
     "height": 124
    },
    "colab_type": "code",
    "id": "OHH06wxVunbq",
    "outputId": "8af16146-76fb-418a-8eb5-f92355d5b67d"
   },
   "outputs": [
    {
     "name": "stdout",
     "output_type": "stream",
     "text": [
      "Go to this URL in a browser: https://accounts.google.com/o/oauth2/auth?client_id=947318989803-6bn6qk8qdgf4n4g3pfee6491hc0brc4i.apps.googleusercontent.com&redirect_uri=urn%3Aietf%3Awg%3Aoauth%3A2.0%3Aoob&scope=email%20https%3A%2F%2Fwww.googleapis.com%2Fauth%2Fdocs.test%20https%3A%2F%2Fwww.googleapis.com%2Fauth%2Fdrive%20https%3A%2F%2Fwww.googleapis.com%2Fauth%2Fdrive.photos.readonly%20https%3A%2F%2Fwww.googleapis.com%2Fauth%2Fpeopleapi.readonly&response_type=code\n",
      "\n",
      "Enter your authorization code:\n",
      "··········\n",
      "Mounted at /content/drive/\n"
     ]
    }
   ],
   "source": [
    "from google.colab import drive\n",
    "drive.mount('/content/drive/')"
   ]
  },
  {
   "cell_type": "code",
   "execution_count": 1,
   "metadata": {
    "colab": {
     "base_uri": "https://localhost:8080/",
     "height": 191
    },
    "colab_type": "code",
    "id": "bFyoqFypGll7",
    "outputId": "a3811dc2-e313-4e82-83ae-0b62da0244df"
   },
   "outputs": [
    {
     "name": "stdout",
     "output_type": "stream",
     "text": [
      "Requirement already satisfied: torch in /usr/local/lib/python3.6/dist-packages (1.0.0)\n",
      "Requirement already satisfied: torchvision in /usr/local/lib/python3.6/dist-packages (0.2.1)\n",
      "Requirement already satisfied: pillow>=4.1.1 in /usr/local/lib/python3.6/dist-packages (from torchvision) (5.3.0)\n",
      "Requirement already satisfied: numpy in /usr/local/lib/python3.6/dist-packages (from torchvision) (1.14.6)\n",
      "Requirement already satisfied: six in /usr/local/lib/python3.6/dist-packages (from torchvision) (1.11.0)\n",
      "Requirement already satisfied: Pillow==5.3.0 in /usr/local/lib/python3.6/dist-packages (5.3.0)\n",
      "Requirement already satisfied: image in /usr/local/lib/python3.6/dist-packages (1.5.27)\n",
      "Requirement already satisfied: django in /usr/local/lib/python3.6/dist-packages (from image) (2.1.5)\n",
      "Requirement already satisfied: pillow in /usr/local/lib/python3.6/dist-packages (from image) (5.3.0)\n",
      "Requirement already satisfied: pytz in /usr/local/lib/python3.6/dist-packages (from django->image) (2018.9)\n"
     ]
    }
   ],
   "source": [
    "!pip3 install torch torchvision\n",
    "!pip install Pillow==5.3.0\n",
    "\n",
    "\n",
    "#!pip install PIL\n",
    "!pip install image\n",
    "\n",
    "\n",
    "# Imports here\n",
    "import torch\n",
    "import numpy as np\n",
    "from torchvision import datasets, models\n",
    "import torchvision.transforms as transforms\n",
    "from torch.utils.data.sampler import SubsetRandomSampler\n",
    "import matplotlib.pyplot as plt\n",
    "from torch import nn\n",
    "import torch.nn.functional as F\n",
    "from collections import OrderedDict\n",
    "from torch import optim\n",
    "from torch.optim import lr_scheduler\n",
    "import random\n",
    "import seaborn as sns\n",
    "%matplotlib inline\n",
    "import PIL\n",
    "from PIL import Image"
   ]
  },
  {
   "cell_type": "code",
   "execution_count": 2,
   "metadata": {
    "colab": {
     "base_uri": "https://localhost:8080/",
     "height": 225
    },
    "colab_type": "code",
    "id": "GYbwu8jcA3jI",
    "outputId": "ea6391cf-5b96-4d93-a7eb-6ef282d8000d"
   },
   "outputs": [
    {
     "name": "stdout",
     "output_type": "stream",
     "text": [
      "fatal: destination path 'deep-learning-flower-identifier' already exists and is not an empty directory.\n",
      "Requirement already satisfied: requests in /usr/local/lib/python3.6/dist-packages (2.18.4)\n",
      "Requirement already satisfied: certifi>=2017.4.17 in /usr/local/lib/python3.6/dist-packages (from requests) (2018.11.29)\n",
      "Requirement already satisfied: urllib3<1.23,>=1.21.1 in /usr/local/lib/python3.6/dist-packages (from requests) (1.22)\n",
      "Requirement already satisfied: chardet<3.1.0,>=3.0.2 in /usr/local/lib/python3.6/dist-packages (from requests) (3.0.4)\n",
      "Requirement already satisfied: idna<2.7,>=2.5 in /usr/local/lib/python3.6/dist-packages (from requests) (2.6)\n",
      "Requirement already satisfied: airtable in /usr/local/lib/python3.6/dist-packages (0.3.1)\n",
      "Requirement already satisfied: requests>=2.5.3 in /usr/local/lib/python3.6/dist-packages (from airtable) (2.18.4)\n",
      "Requirement already satisfied: chardet<3.1.0,>=3.0.2 in /usr/local/lib/python3.6/dist-packages (from requests>=2.5.3->airtable) (3.0.4)\n",
      "Requirement already satisfied: certifi>=2017.4.17 in /usr/local/lib/python3.6/dist-packages (from requests>=2.5.3->airtable) (2018.11.29)\n",
      "Requirement already satisfied: urllib3<1.23,>=1.21.1 in /usr/local/lib/python3.6/dist-packages (from requests>=2.5.3->airtable) (1.22)\n",
      "Requirement already satisfied: idna<2.7,>=2.5 in /usr/local/lib/python3.6/dist-packages (from requests>=2.5.3->airtable) (2.6)\n"
     ]
    }
   ],
   "source": [
    "!git clone https://github.com/GabrielePicco/deep-learning-flower-identifier\n",
    "!pip install requests\n",
    "!pip install airtable\n",
    "import sys\n",
    "sys.path.insert(0, 'deep-learning-flower-identifier')\n",
    "from test_model_pytorch_facebook_challenge import calc_accuracy"
   ]
  },
  {
   "cell_type": "code",
   "execution_count": 0,
   "metadata": {
    "colab": {},
    "colab_type": "code",
    "collapsed": true,
    "id": "OxZ62VDWBffc"
   },
   "outputs": [],
   "source": [
    "def load_model(checkpoint_path):\n",
    "    checkpoint = torch.load(checkpoint_path)\n",
    "    \n",
    "    if checkpoint['arch'] == 'resnet152':\n",
    "        model = models.resnet152(pretrained=True)\n",
    "        for param in model.parameters():\n",
    "            param.requires_grad = False\n",
    "\n",
    "    else:\n",
    "        print(\"Sorry base architecture not recognized\")\n",
    "        return \n",
    "    \n",
    "    model.class_to_idx = checkpoint['class_to_idx']\n",
    "    \n",
    "    # Create the classifier\n",
    "    classifier = nn.Sequential(OrderedDict([\n",
    "                          #('fc1', nn.Linear(25088, 4096)),\n",
    "                          #('relu1', nn.ReLU()),\n",
    "                          ('fc', nn.Linear(2048, 102)),\n",
    "                          ('output', nn.LogSoftmax(dim=1))\n",
    "                          ]))\n",
    "\n",
    "    # Put the classifier on the pretrained network\n",
    "    model.fc = classifier\n",
    "    \n",
    "    model.load_state_dict(checkpoint['state_dict'])\n",
    "    \n",
    "    return model\n"
   ]
  },
  {
   "cell_type": "markdown",
   "metadata": {
    "colab_type": "text",
    "id": "KEU6znb5Yj8U"
   },
   "source": [
    "## For one time trained model "
   ]
  },
  {
   "cell_type": "code",
   "execution_count": 0,
   "metadata": {
    "colab": {
     "base_uri": "https://localhost:8080/",
     "height": 503
    },
    "colab_type": "code",
    "id": "2hPRt5T3BVfO",
    "outputId": "853c7db8-5287-4429-d3a8-2b7915e2ed0a"
   },
   "outputs": [
    {
     "name": "stdout",
     "output_type": "stream",
     "text": [
      "Batch accuracy (Size 32): 0.84375\n",
      "Batch accuracy (Size 32): 0.96875\n",
      "Batch accuracy (Size 32): 1.0\n",
      "Batch accuracy (Size 32): 0.9375\n",
      "Batch accuracy (Size 32): 0.9375\n",
      "Batch accuracy (Size 32): 0.84375\n",
      "Batch accuracy (Size 32): 0.90625\n",
      "Batch accuracy (Size 32): 0.90625\n",
      "Batch accuracy (Size 32): 0.84375\n",
      "Batch accuracy (Size 32): 1.0\n",
      "Batch accuracy (Size 32): 1.0\n",
      "Batch accuracy (Size 32): 1.0\n",
      "Batch accuracy (Size 32): 0.90625\n",
      "Batch accuracy (Size 32): 0.96875\n",
      "Batch accuracy (Size 32): 0.96875\n",
      "Batch accuracy (Size 32): 0.9375\n",
      "Batch accuracy (Size 32): 1.0\n",
      "Batch accuracy (Size 32): 0.9375\n",
      "Batch accuracy (Size 32): 0.96875\n",
      "Batch accuracy (Size 32): 0.9375\n",
      "Batch accuracy (Size 32): 0.96875\n",
      "Batch accuracy (Size 32): 0.90625\n",
      "Batch accuracy (Size 32): 0.875\n",
      "Batch accuracy (Size 32): 0.9375\n",
      "Batch accuracy (Size 32): 0.9375\n",
      "Batch accuracy (Size 32): 1.0\n",
      "Mean accuracy: 0.9399038553237915\n"
     ]
    },
    {
     "data": {
      "text/plain": [
       "0.93990386"
      ]
     },
     "execution_count": 4,
     "metadata": {
      "tags": []
     },
     "output_type": "execute_result"
    }
   ],
   "source": [
    "model = load_model('/content/drive/My Drive/checkpoint2_resnet152_lr=0.005.pth')\n",
    "calc_accuracy(model, input_image_size=224)\n"
   ]
  },
  {
   "cell_type": "markdown",
   "metadata": {
    "colab_type": "text",
    "id": "6s62QkpDY9Y7"
   },
   "source": [
    "## For two times trained model"
   ]
  },
  {
   "cell_type": "code",
   "execution_count": 0,
   "metadata": {
    "colab": {
     "base_uri": "https://localhost:8080/",
     "height": 503
    },
    "colab_type": "code",
    "id": "XWiQ5ZcVCmkX",
    "outputId": "b6d308da-f39a-446b-c9f3-2bf6e30235a1"
   },
   "outputs": [
    {
     "name": "stdout",
     "output_type": "stream",
     "text": [
      "Batch accuracy (Size 32): 1.0\n",
      "Batch accuracy (Size 32): 1.0\n",
      "Batch accuracy (Size 32): 1.0\n",
      "Batch accuracy (Size 32): 1.0\n",
      "Batch accuracy (Size 32): 0.9375\n",
      "Batch accuracy (Size 32): 0.9375\n",
      "Batch accuracy (Size 32): 0.9375\n",
      "Batch accuracy (Size 32): 0.9375\n",
      "Batch accuracy (Size 32): 0.96875\n",
      "Batch accuracy (Size 32): 0.96875\n",
      "Batch accuracy (Size 32): 1.0\n",
      "Batch accuracy (Size 32): 1.0\n",
      "Batch accuracy (Size 32): 0.90625\n",
      "Batch accuracy (Size 32): 1.0\n",
      "Batch accuracy (Size 32): 1.0\n",
      "Batch accuracy (Size 32): 0.96875\n",
      "Batch accuracy (Size 32): 1.0\n",
      "Batch accuracy (Size 32): 0.96875\n",
      "Batch accuracy (Size 32): 0.96875\n",
      "Batch accuracy (Size 32): 0.96875\n",
      "Batch accuracy (Size 32): 0.96875\n",
      "Batch accuracy (Size 32): 0.90625\n",
      "Batch accuracy (Size 32): 0.90625\n",
      "Batch accuracy (Size 32): 0.96875\n",
      "Batch accuracy (Size 32): 0.96875\n",
      "Batch accuracy (Size 32): 1.0\n",
      "Mean accuracy: 0.96875\n"
     ]
    },
    {
     "data": {
      "text/plain": [
       "0.96875"
      ]
     },
     "execution_count": 5,
     "metadata": {
      "tags": []
     },
     "output_type": "execute_result"
    }
   ],
   "source": [
    "model = load_model('/content/drive/My Drive/checkpoint2_resnet152_lr=0.005_training_twice.pth')\n",
    "calc_accuracy(model, input_image_size=224)"
   ]
  },
  {
   "cell_type": "markdown",
   "metadata": {},
   "source": [
    "## For three times trained model"
   ]
  },
  {
   "cell_type": "code",
   "execution_count": 0,
   "metadata": {
    "colab": {
     "base_uri": "https://localhost:8080/",
     "height": 503
    },
    "colab_type": "code",
    "id": "4eMT24d6DMor",
    "outputId": "ce43f842-2b8d-4757-8dbd-d24bc87d6e49"
   },
   "outputs": [
    {
     "name": "stdout",
     "output_type": "stream",
     "text": [
      "Batch accuracy (Size 32): 1.0\n",
      "Batch accuracy (Size 32): 1.0\n",
      "Batch accuracy (Size 32): 1.0\n",
      "Batch accuracy (Size 32): 0.96875\n",
      "Batch accuracy (Size 32): 0.9375\n",
      "Batch accuracy (Size 32): 0.9375\n",
      "Batch accuracy (Size 32): 0.96875\n",
      "Batch accuracy (Size 32): 0.96875\n",
      "Batch accuracy (Size 32): 1.0\n",
      "Batch accuracy (Size 32): 0.96875\n",
      "Batch accuracy (Size 32): 1.0\n",
      "Batch accuracy (Size 32): 1.0\n",
      "Batch accuracy (Size 32): 0.90625\n",
      "Batch accuracy (Size 32): 1.0\n",
      "Batch accuracy (Size 32): 1.0\n",
      "Batch accuracy (Size 32): 1.0\n",
      "Batch accuracy (Size 32): 1.0\n",
      "Batch accuracy (Size 32): 0.96875\n",
      "Batch accuracy (Size 32): 0.96875\n",
      "Batch accuracy (Size 32): 0.96875\n",
      "Batch accuracy (Size 32): 1.0\n",
      "Batch accuracy (Size 32): 0.9375\n",
      "Batch accuracy (Size 32): 0.96875\n",
      "Batch accuracy (Size 32): 0.96875\n",
      "Batch accuracy (Size 32): 0.96875\n",
      "Batch accuracy (Size 32): 1.0\n",
      "Mean accuracy: 0.9771634340286255\n"
     ]
    },
    {
     "data": {
      "text/plain": [
       "0.97716343"
      ]
     },
     "execution_count": 6,
     "metadata": {
      "tags": []
     },
     "output_type": "execute_result"
    }
   ],
   "source": [
    "model = load_model('/content/drive/My Drive/checkpoint2_resnet152_lr=0.005_training_third.pth')\n",
    "calc_accuracy(model, input_image_size=224)"
   ]
  }
 ],
 "metadata": {
  "accelerator": "GPU",
  "colab": {
   "collapsed_sections": [],
   "name": "test_models.ipynb",
   "provenance": [],
   "version": "0.3.2"
  },
  "kernelspec": {
   "display_name": "Python 3",
   "language": "python",
   "name": "python3"
  },
  "language_info": {
   "codemirror_mode": {
    "name": "ipython",
    "version": 3
   },
   "file_extension": ".py",
   "mimetype": "text/x-python",
   "name": "python",
   "nbconvert_exporter": "python",
   "pygments_lexer": "ipython3",
   "version": "3.6.3"
  }
 },
 "nbformat": 4,
 "nbformat_minor": 1
}
