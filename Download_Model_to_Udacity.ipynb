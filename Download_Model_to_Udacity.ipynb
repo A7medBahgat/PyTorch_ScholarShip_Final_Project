{
 "cells": [
  {
   "cell_type": "markdown",
   "metadata": {
    "colab_type": "text",
    "id": "OF1i-icmOhdV"
   },
   "source": [
    "Visit this blog post for more detailed instructions - https://medium.com/@ml_kid/how-to-move-our-model-from-google-colab-to-udacitys-workspace-final-lab-project-88e1a0b7d6ab\n",
    "\n",
    "If you need any help or have any feedback, feel free to contact me on Slack. My username is `avinashss`"
   ]
  },
  {
   "cell_type": "code",
   "execution_count": 0,
   "metadata": {
    "colab": {},
    "colab_type": "code",
    "collapsed": true,
    "id": "RasuwI0hMjo8"
   },
   "outputs": [],
   "source": [
    "!pip install gdown==3.6.0"
   ]
  },
  {
   "cell_type": "code",
   "execution_count": 0,
   "metadata": {
    "colab": {},
    "colab_type": "code",
    "collapsed": true,
    "id": "2W5O2c8zMnjQ"
   },
   "outputs": [],
   "source": [
    "my_file_id = \"1-3hEKyOzsUalaAEn2r_LBODTaqQOXw4y\""
   ]
  },
  {
   "cell_type": "code",
   "execution_count": null,
   "metadata": {
    "collapsed": true
   },
   "outputs": [],
   "source": [
    "#https://drive.google.com/open?id=1-3hEKyOzsUalaAEn2r_LBODTaqQOXw4y"
   ]
  },
  {
   "cell_type": "code",
   "execution_count": 0,
   "metadata": {
    "colab": {},
    "colab_type": "code",
    "collapsed": true,
    "id": "VyheNU_4Mp39"
   },
   "outputs": [],
   "source": [
    "!gdown https://drive.google.com/uc?id={my_file_id}"
   ]
  }
 ],
 "metadata": {
  "colab": {
   "collapsed_sections": [],
   "name": "Download Model to Udacity.ipynb",
   "provenance": [],
   "version": "0.3.2"
  },
  "kernelspec": {
   "display_name": "Python 3",
   "language": "python",
   "name": "python3"
  },
  "language_info": {
   "codemirror_mode": {
    "name": "ipython",
    "version": 3
   },
   "file_extension": ".py",
   "mimetype": "text/x-python",
   "name": "python",
   "nbconvert_exporter": "python",
   "pygments_lexer": "ipython3",
   "version": "3.6.3"
  }
 },
 "nbformat": 4,
 "nbformat_minor": 1
}
